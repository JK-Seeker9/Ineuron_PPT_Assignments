{
 "cells": [
  {
   "cell_type": "code",
   "execution_count": 5,
   "metadata": {},
   "outputs": [
    {
     "name": "stdout",
     "output_type": "stream",
     "text": [
      "True\n",
      "True\n",
      "False\n"
     ]
    }
   ],
   "source": [
    "#Question 1. Given an integer n, return true if it is a power of two. Otherwise, return false.\n",
    "def pow_of_two(n):\n",
    "  if n == 1:\n",
    "    return True\n",
    "  elif n % 2 != 0:\n",
    "    return False\n",
    "  else:\n",
    "    return pow_of_two(n // 2)\n",
    "print(pow_of_two(1))\n",
    "print(pow_of_two(16))\n",
    "print(pow_of_two(3))"
   ]
  },
  {
   "cell_type": "code",
   "execution_count": 8,
   "metadata": {},
   "outputs": [
    {
     "name": "stdout",
     "output_type": "stream",
     "text": [
      "The input is: 3\n",
      "The sum of first 3 natural number is 6\n"
     ]
    }
   ],
   "source": [
    "#Question 2. Given a number n, find the sum of the first natural numbers.\n",
    "def sum_of_natural(n):\n",
    "    if n == 0:\n",
    "        return 0\n",
    "    else:\n",
    "        return n + sum_of_natural(n - 1)\n",
    "x = int(input())\n",
    "print(f\"The input is: {x}\")\n",
    "print(f\"The sum of first {x} natural number is {sum_of_natural(x)}\")"
   ]
  },
  {
   "cell_type": "code",
   "execution_count": 11,
   "metadata": {},
   "outputs": [
    {
     "name": "stdout",
     "output_type": "stream",
     "text": [
      "The factorial of 5 is 120\n"
     ]
    }
   ],
   "source": [
    "#Question 2. Given a positive integer, N. Find the factorial of N. \n",
    "def fact(N):\n",
    "    if N == 0:\n",
    "        return 1\n",
    "    else:\n",
    "        return N*fact(N-1)\n",
    "x = int(input())\n",
    "print(f\"The factorial of {x} is {fact(x)}\")"
   ]
  },
  {
   "cell_type": "code",
   "execution_count": 12,
   "metadata": {},
   "outputs": [
    {
     "name": "stdout",
     "output_type": "stream",
     "text": [
      "The exponent of 5 when raised to power 2 is 25\n"
     ]
    }
   ],
   "source": [
    "#Question 4. Given a number N and a power P, the task is to find the exponent of this number raised to the given power, i.e. N^P.\n",
    "def exponent(N,P):\n",
    "    if P == 0:\n",
    "        return 1\n",
    "    else:\n",
    "        return N * exponent(N,P-1)\n",
    "N = int(input(\"Enter a number to find the exponent of: \"))\n",
    "P = int(input(\"Enter a power: \"))\n",
    "print(f\"The exponent of {N} when raised to power {P} is {exponent(N,P)}\")"
   ]
  },
  {
   "cell_type": "code",
   "execution_count": 13,
   "metadata": {},
   "outputs": [
    {
     "name": "stdout",
     "output_type": "stream",
     "text": [
      "The maximum number in the array [1, 4, 3, -5, -4, 8, 6] is 8\n"
     ]
    }
   ],
   "source": [
    "#Question 5. Given an array of integers arr, the task is to find maximum element of that array using recursion.\n",
    "def max_in_arr(arr, start, end):\n",
    "    if start == end:\n",
    "        return arr[start]\n",
    "    else:\n",
    "        return max(arr)\n",
    "arr = [1, 4, 3, -5, -4, 8, 6]\n",
    "print(f\"The maximum number in the array {arr} is {max_in_arr(arr,0,len(arr)-1)}\")\n"
   ]
  },
  {
   "cell_type": "code",
   "execution_count": 15,
   "metadata": {},
   "outputs": [
    {
     "name": "stdout",
     "output_type": "stream",
     "text": [
      "The Nth term of AP with first term 2, common difference 1 and integer 5 is: 6\n"
     ]
    }
   ],
   "source": [
    "#Question 6. Given first term (a), common difference (d) and a integer N of the Arithmetic Progression series, the task is to find Nth term of the series.\n",
    "def AP(a,d,N):\n",
    "    if N == 0:\n",
    "        return 1\n",
    "    else:\n",
    "        return a+(N-1)*d\n",
    "a = int(input(\"Enter the first term: \"))\n",
    "d = int(input(\"Enter common difference: \"))\n",
    "N = int(input(\"Enter a integer term: \"))\n",
    "print(f\"The Nth term of AP with first term {a}, common difference {d} and integer {N} is: {AP(a,d,N)}\")"
   ]
  },
  {
   "cell_type": "code",
   "execution_count": 24,
   "metadata": {},
   "outputs": [
    {
     "name": "stdout",
     "output_type": "stream",
     "text": [
      "Y\n",
      "XY\n",
      "X\n",
      "XY\n"
     ]
    }
   ],
   "source": [
    "#Question 7. Given a string S, the task is to write a program to print all permutations of a given string.\n",
    "def str_permutation(S):\n",
    "    if len(S) <=1:\n",
    "        print(S)\n",
    "        return\n",
    "    for i in range(len(S)):\n",
    "        str_permutation(S[:i]+ S[i+1:])\n",
    "        print(S[:i]+ S[i] + S[i+1:])\n",
    "if __name__==\"__main__\":\n",
    "    S = input(\"Enter a string: \")\n",
    "    str_permutation(S)"
   ]
  },
  {
   "cell_type": "code",
   "execution_count": 29,
   "metadata": {},
   "outputs": [
    {
     "data": {
      "text/plain": [
       "120"
      ]
     },
     "execution_count": 29,
     "metadata": {},
     "output_type": "execute_result"
    }
   ],
   "source": [
    "#Question 8. Given an array, find a product of all array elements.\n",
    "def prod_arr(arr):\n",
    "    if len(arr)==1:\n",
    "        return arr[0]\n",
    "    else:\n",
    "        return arr[0]*prod_arr(arr[1:])\n",
    "arr= [1, 2, 3, 4, 5]\n",
    "prod_arr(arr)"
   ]
  },
  {
   "cell_type": "code",
   "execution_count": null,
   "metadata": {},
   "outputs": [],
   "source": []
  }
 ],
 "metadata": {
  "kernelspec": {
   "display_name": "Python 3",
   "language": "python",
   "name": "python3"
  },
  "language_info": {
   "codemirror_mode": {
    "name": "ipython",
    "version": 3
   },
   "file_extension": ".py",
   "mimetype": "text/x-python",
   "name": "python",
   "nbconvert_exporter": "python",
   "pygments_lexer": "ipython3",
   "version": "3.9.7"
  },
  "orig_nbformat": 4
 },
 "nbformat": 4,
 "nbformat_minor": 2
}
