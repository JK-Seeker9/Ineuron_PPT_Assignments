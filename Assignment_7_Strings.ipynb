{
 "cells": [
  {
   "attachments": {},
   "cell_type": "markdown",
   "metadata": {},
   "source": [
    "Question 1. Given two strings s and t, *determine if they are isomorphic*.\n",
    "\n",
    "Two strings s and t are isomorphic if the characters in s can be replaced to get t.\n",
    "\n",
    "All occurrences of a character must be replaced with another character while preserving the order of characters. No two characters may map to the same character, but a character may map to itself.\n",
    "\n",
    "**Example 1:**\n",
    "\n",
    "**Input:** s = \"egg\", t = \"add\"\n",
    "\n",
    "**Output:** true"
   ]
  },
  {
   "cell_type": "code",
   "execution_count": 11,
   "metadata": {},
   "outputs": [
    {
     "name": "stdout",
     "output_type": "stream",
     "text": [
      "[0, 1, 1]\n",
      "[0, 1, 1]\n",
      "True\n"
     ]
    }
   ],
   "source": [
    "def check_isomorphic(s,t):\n",
    "    map_1 = []\n",
    "    map_2 = []\n",
    "    for i in s:\n",
    "        map_1.append(s.index(i))\n",
    "    print(map_1)\n",
    "    for  j in t:\n",
    "        map_2.append(t.index(j))\n",
    "    print(map_2)\n",
    "    if map_1 == map_2:\n",
    "        return True\n",
    "    return False\n",
    "\n",
    "#driver code\n",
    "s=\"egg\"\n",
    "t=\"add\"\n",
    "print(check_isomorphic(s,t))"
   ]
  },
  {
   "attachments": {},
   "cell_type": "markdown",
   "metadata": {},
   "source": [
    "Question no. 2 Given a string num which represents an integer, return true *if* num *is a **strobogrammatic number***.\n",
    "\n",
    "A **strobogrammatic number** is a number that looks the same when rotated 180 degrees (looked at upside down)."
   ]
  },
  {
   "cell_type": "code",
   "execution_count": 12,
   "metadata": {},
   "outputs": [
    {
     "name": "stdout",
     "output_type": "stream",
     "text": [
      "True\n"
     ]
    }
   ],
   "source": [
    "#Define a function\n",
    "#Create a dictionary\n",
    "#Check if each character is in dictionary, if yes then print true else false\n",
    "def strobogrammatic(s):\n",
    "    dict = {\"0\":\"0\",\"1\":\"1\",\"6\":\"9\",\"8\":\"8\", \"9\":\"6\"}\n",
    "    for i in range(len(s)):\n",
    "        if s[i] not in dict:\n",
    "            return False\n",
    "        elif dict[s[i]] != s[-i-1]:\n",
    "            return False\n",
    "    return True\n",
    "s= \"69\"\n",
    "print(strobogrammatic(s))    "
   ]
  },
  {
   "attachments": {},
   "cell_type": "markdown",
   "metadata": {},
   "source": [
    "Question 3: Given two non-negative integers, num1 and num2 represented as string, return *the sum of* num1 *and* num2 *as a string*.\n",
    "You must solve the problem without using any built-in library for handling large integers (such as BigInteger). You must also not convert the inputs to integers directly."
   ]
  },
  {
   "cell_type": "code",
   "execution_count": 13,
   "metadata": {},
   "outputs": [
    {
     "name": "stdout",
     "output_type": "stream",
     "text": [
      "134\n"
     ]
    }
   ],
   "source": [
    "def addStrings(num1, num2):\n",
    "    carry = 0\n",
    "    result = []\n",
    "    n1 = len(num1) - 1\n",
    "    n2 = len(num2) - 1\n",
    "    \n",
    "    # Perform addition\n",
    "    while n1 >= 0 or n2 >= 0 or carry > 0:\n",
    "        Val_1 = int(num1[n1]) if n1 >= 0 else 0\n",
    "        val_2 = int(num2[n2]) if n2 >= 0 else 0\n",
    "        \n",
    "        # Compute the sum of the current digits and carry\n",
    "        val_sum = Val_1 + val_2 + carry\n",
    "        carry = val_sum // 10\n",
    "        val_sum %= 10\n",
    "        \n",
    "        # Append the result to the output list\n",
    "        result.append(str(val_sum))\n",
    "        \n",
    "        # Perform decreament\n",
    "        n1 -= 1\n",
    "        n2 -= 1\n",
    "        \n",
    "    # Reverse the output list and join the digits\n",
    "    return ''.join(result[::-1])\n",
    "\n",
    "# Example usage\n",
    "num1 = \"11\"\n",
    "num2 = \"123\"\n",
    "print(addStrings(num1, num2))\n"
   ]
  },
  {
   "cell_type": "markdown",
   "metadata": {},
   "source": [
    "Question 4: Given a string s, reverse the order of characters in each word within a sentence while still preserving whitespace and initial word order."
   ]
  },
  {
   "cell_type": "code",
   "execution_count": 15,
   "metadata": {},
   "outputs": [
    {
     "name": "stdout",
     "output_type": "stream",
     "text": [
      "s'teL ekat edoCteeL tsetnoc\n"
     ]
    }
   ],
   "source": [
    "def reverse(s):\n",
    "    words = s.split()\n",
    "    rev_words = \"\"\n",
    "    for i in range(len(words)):\n",
    "        rev_words = rev_words + words[i][::-1]\n",
    "        if i != len(words) - 1:\n",
    "            rev_words = rev_words + \" \"\n",
    "    return rev_words\n",
    "s = \"Let's take LeetCode contest\"\n",
    "print(reverse(s))\n"
   ]
  },
  {
   "cell_type": "markdown",
   "metadata": {},
   "source": [
    "Question 5: Given a string s and an integer k, reverse the first k characters for every 2k characters counting from the start of the string.\n",
    "\n",
    "If there are fewer than k characters left, reverse all of them. If there are less than 2k but greater than or equal to k characters, then reverse the first k characters and leave the other as original.\n",
    "\n",
    "**Example 1:**\n",
    "\n",
    "**Input:** s = \"abcdefg\", k = 2\n",
    "\n",
    "**Output:**\n",
    "\n",
    "\"bacdfeg\""
   ]
  },
  {
   "cell_type": "code",
   "execution_count": 18,
   "metadata": {},
   "outputs": [
    {
     "name": "stdout",
     "output_type": "stream",
     "text": [
      "bacdfeg\n"
     ]
    }
   ],
   "source": [
    "def rev_k_char(s,k):\n",
    "    char = list(s)\n",
    "    k2  = 2*k\n",
    "    for i in range(0,len(s),k2):\n",
    "        char[i:i+k] = reversed(char[i:i+k])\n",
    "    rev_s = \"\".join(char)\n",
    "    return rev_s\n",
    "s = \"abcdefg\"\n",
    "k = 2\n",
    "print(rev_k_char(s,k))    \n"
   ]
  },
  {
   "cell_type": "markdown",
   "metadata": {},
   "source": [
    "Question no. 6: Given two strings s and goal, return true *if and only if* s *can become* goal *after some number of **shifts** on* s.\n",
    "\n",
    "A **shift** on s consists of moving the leftmost character of s to the rightmost position.\n",
    "\n",
    "- For example, if s = \"abcde\", then it will be \"bcdea\" after one shift.\n",
    "\n",
    "**Example 1:**\n",
    "\n",
    "**Input:** s = \"abcde\", goal = \"cdeab\"\n",
    "\n",
    "**Output:**\n",
    "\n",
    "true"
   ]
  },
  {
   "cell_type": "code",
   "execution_count": 24,
   "metadata": {},
   "outputs": [
    {
     "name": "stdout",
     "output_type": "stream",
     "text": [
      "True\n"
     ]
    }
   ],
   "source": [
    "def rotate_s(s, goal):\n",
    "    if len(s) != len(goal):\n",
    "        print(\"Check the size of the strings\")\n",
    "        return False\n",
    "    \n",
    "    for i in range(len(s)):\n",
    "        rotated_s = s[i:]+s[:i] #performing shift operation\n",
    "        \n",
    "        if (rotated_s == goal):\n",
    "            return True\n",
    "    return False\n",
    "    \n",
    "s = \"abcde\"\n",
    "goal = \"cdeab\"\n",
    "print(rotate_s(s,goal))"
   ]
  },
  {
   "cell_type": "markdown",
   "metadata": {},
   "source": [
    "Question 7: Given two strings s and t, return true *if they are equal when both are typed into empty text editors*. '#' means a backspace character.\n",
    "\n",
    "Note that after backspacing an empty text, the text will continue empty.\n",
    "\n",
    "**Example 1:**\n",
    "\n",
    "**Input:** s = \"ab#c\", t = \"ad#c\"\n",
    "\n",
    "**Output:** true\n",
    "\n",
    "**Explanation:**\n",
    "\n",
    "Both s and t become \"ac\"."
   ]
  },
  {
   "cell_type": "code",
   "execution_count": 26,
   "metadata": {},
   "outputs": [
    {
     "name": "stdout",
     "output_type": "stream",
     "text": [
      "Strings are equal:  True\n"
     ]
    }
   ],
   "source": [
    "def back_char(s,t):\n",
    "\n",
    "    def chk_str(string):\n",
    "\n",
    "        list_char = []\n",
    "        for i in string:\n",
    "            if i != \"#\":\n",
    "                list_char.append(i)\n",
    "            elif list_char:\n",
    "                list_char.pop()\n",
    "\n",
    "        return \"\".join(list_char)\n",
    "    \n",
    "    return chk_str(s) == chk_str(t)\n",
    "\n",
    "s = \"ab#c\"\n",
    "t = \"ad#c\"\n",
    "print(f\"Strings are equal: \", back_char(s,t))       "
   ]
  },
  {
   "cell_type": "markdown",
   "metadata": {},
   "source": [
    "Question 8: You are given an array coordinates, coordinates[i] = [x, y], where [x, y] represents the coordinate of a point. Check if these points make a straight line in the XY plane."
   ]
  },
  {
   "cell_type": "code",
   "execution_count": 30,
   "metadata": {},
   "outputs": [
    {
     "name": "stdout",
     "output_type": "stream",
     "text": [
      "True\n"
     ]
    }
   ],
   "source": [
    "def chk_line(cordinates):\n",
    "    x0, y0 = cordinates[0]\n",
    "    x1, y1 = cordinates[1]\n",
    "\n",
    "    if x1 > x0:\n",
    "        slope = (y1-y0) / (x1-x0)\n",
    "    else:\n",
    "        slope = float('inf')\n",
    "\n",
    "    for i in range(2, len(cordinates)):\n",
    "        x0,y0 = cordinates[i-1]\n",
    "        x1,y1 = cordinates[i]\n",
    "        if x1 > x0:\n",
    "            new_slope = (y1-y0) / (x1-x0)\n",
    "        else:\n",
    "            new_slope = float('inf')\n",
    "    if new_slope != slope:\n",
    "        return False\n",
    "    return True \n",
    "\n",
    "cordinates = [[1,2],[2,3],[3,4],[4,5],[5,6]]\n",
    "print(chk_line(cordinates))"
   ]
  }
 ],
 "metadata": {
  "kernelspec": {
   "display_name": "Python 3",
   "language": "python",
   "name": "python3"
  },
  "language_info": {
   "codemirror_mode": {
    "name": "ipython",
    "version": 3
   },
   "file_extension": ".py",
   "mimetype": "text/x-python",
   "name": "python",
   "nbconvert_exporter": "python",
   "pygments_lexer": "ipython3",
   "version": "3.9.7"
  },
  "orig_nbformat": 4
 },
 "nbformat": 4,
 "nbformat_minor": 2
}
