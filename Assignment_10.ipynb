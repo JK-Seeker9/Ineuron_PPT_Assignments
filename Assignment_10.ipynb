{
 "cells": [
  {
   "cell_type": "code",
   "execution_count": 6,
   "metadata": {},
   "outputs": [
    {
     "name": "stdout",
     "output_type": "stream",
     "text": [
      "27\n"
     ]
    },
    {
     "data": {
      "text/plain": [
       "True"
      ]
     },
     "execution_count": 6,
     "metadata": {},
     "output_type": "execute_result"
    }
   ],
   "source": [
    "#Question 1. Given an integer n, return true if it is a power of three. Otherwise, return false.\n",
    "def pow_of_three(n):\n",
    "    if n == 1:\n",
    "        return True\n",
    "    elif n < 1 or n % 3 != 0:\n",
    "        return False\n",
    "    else:\n",
    "        return pow_of_three(n // 3)\n",
    "n = int(input(\"Enter a number: \"))\n",
    "print(n)\n",
    "pow_of_three(n)"
   ]
  },
  {
   "cell_type": "code",
   "execution_count": 5,
   "metadata": {},
   "outputs": [
    {
     "name": "stdout",
     "output_type": "stream",
     "text": [
      "The last number in the list is 6\n"
     ]
    }
   ],
   "source": [
    "#Question 2. You have a list `arr` of all integers in the range `[1, n]` sorted in a strictly increasing order. Apply the following algorithm on `arr`:\n",
    "\n",
    "#- Starting from left to right, remove the first number and every other number afterward until you reach the end of the list.\n",
    "#- Repeat the previous step again, but this time from right to left, remove the rightmost number and every other number from the remaining numbers.\n",
    "#- Keep repeating the steps again, alternating left to right and right to left, until a single number remains.\n",
    "\n",
    "#Given the integer `n`, return *the last number that remains in* `arr`.\n",
    "\n",
    "def last_num(n):\n",
    "    arr = list(range(1, n + 1))\n",
    "    left_to_right = True\n",
    "\n",
    "    while len(arr) > 1:\n",
    "        if left_to_right:\n",
    "            arr = arr[1::2]\n",
    "        else:\n",
    "            arr = arr[-2::-2][::-1]\n",
    "        left_to_right = not left_to_right\n",
    "\n",
    "    return arr[0]\n",
    "\n",
    "n = int(input(\"Enter the number of elements in the list: \"))\n",
    "print(\"The last number in the list is\", last_num(n))\n"
   ]
  },
  {
   "cell_type": "code",
   "execution_count": 4,
   "metadata": {},
   "outputs": [
    {
     "data": {
      "text/plain": [
       "['',\n",
       " 'a',\n",
       " 'ab',\n",
       " 'abc',\n",
       " 'abcd',\n",
       " 'abd',\n",
       " 'ac',\n",
       " 'acd',\n",
       " 'ad',\n",
       " 'b',\n",
       " 'bc',\n",
       " 'bcd',\n",
       " 'bd',\n",
       " 'c',\n",
       " 'cd',\n",
       " 'd']"
      ]
     },
     "execution_count": 4,
     "metadata": {},
     "output_type": "execute_result"
    }
   ],
   "source": [
    "#Question 3. Given a set represented as a string, write a recursive code to print all subsets of it. The subsets can be printed in any order.\n",
    "def subsets(S):\n",
    "    def backtrack(start, subset):\n",
    "        result.append(subset)\n",
    "        for i in range(start, len(S)):\n",
    "            backtrack(i + 1, subset + S[i])\n",
    "\n",
    "    result = []\n",
    "    backtrack(0, '')\n",
    "    return result\n",
    "S = \"abcd\"\n",
    "subsets(S)\n"
   ]
  },
  {
   "cell_type": "code",
   "execution_count": 2,
   "metadata": {},
   "outputs": [
    {
     "name": "stdout",
     "output_type": "stream",
     "text": [
      "3\n"
     ]
    }
   ],
   "source": [
    "#Question 4. Given a string calculate length of the string using recursion.\n",
    "def calc_len(S):\n",
    "    if S == \"\":\n",
    "        return 0\n",
    "    else:\n",
    "        return 1+ calc_len(S[1:])\n",
    "S = \"abc\"\n",
    "print(calc_len(S))"
   ]
  },
  {
   "cell_type": "code",
   "execution_count": 7,
   "metadata": {},
   "outputs": [
    {
     "name": "stdout",
     "output_type": "stream",
     "text": [
      "abcab\n"
     ]
    },
    {
     "data": {
      "text/plain": [
       "7"
      ]
     },
     "execution_count": 7,
     "metadata": {},
     "output_type": "execute_result"
    }
   ],
   "source": [
    "#Question 5. We are given a string S, we need to find count of all contiguous substrings starting and ending with same character.\n",
    "def cnt_substr(S):\n",
    "    cnt = 0\n",
    "    for i in range(len(S)):\n",
    "        cnt += 1\n",
    "        for j in range(i + 1, len(S)):\n",
    "            if S[j] == S[i]:\n",
    "                cnt += 1\n",
    "    return cnt\n",
    "S = input(\"Enter a string: \")\n",
    "print(S)\n",
    "cnt_substr(S)"
   ]
  },
  {
   "cell_type": "code",
   "execution_count": 9,
   "metadata": {},
   "outputs": [
    {
     "name": "stdout",
     "output_type": "stream",
     "text": [
      "Number of disks = 3\n",
      "move disk 1 from rod 1 to rod 3\n",
      "move disk 2 from rod 1 to rod 2\n",
      "move disk 1 from rod 3 to rod 2\n",
      "move disk 3 from rod 1 to rod 3\n",
      "move disk 1 from rod 2 to rod 1\n",
      "move disk 2 from rod 2 to rod 3\n",
      "move disk 1 from rod 1 to rod 3\n",
      "Total moves: 7\n"
     ]
    }
   ],
   "source": [
    "#Question 6:The tower of Hanoi is a famous puzzle where we have three rods and N disks. \n",
    "#The objective of the puzzle is to move the entire stack to another rod. You are given the number of discs N. \n",
    "#Initially, these discs are in the rod 1. \n",
    "#You need to print all the steps of discs movement so that all the discs reach the 3rd rod. \n",
    "#Also, you need to find the total moves.\n",
    "#Note: The discs are arranged such that the top disc is numbered 1 and the bottom-most disc is numbered N. \n",
    "#Also, all the discs have different sizes and a bigger disc cannot be put on the top of a smaller disc. \n",
    "\n",
    "def tower_hanoi(N,start_rod,end_rod,aux_rod):\n",
    "    if N==1:\n",
    "        print(f\"move disk 1 from rod {start_rod} to rod {end_rod}\")\n",
    "        return 1 \n",
    "    moves = tower_hanoi(N - 1, start_rod, aux_rod, end_rod)\n",
    "    print(\"move disk\", N, \"from rod\", start_rod, \"to rod\", end_rod)\n",
    "    moves += 1\n",
    "    moves += tower_hanoi(N - 1, aux_rod, end_rod, start_rod)\n",
    "    \n",
    "    return moves\n",
    "N = int(input(\"Enter the number of disks: \"))\n",
    "print(f\"Number of disks = {N}\")\n",
    "total_moves = tower_hanoi(N,1,3,2)\n",
    "print(f\"Total moves: {total_moves}\")\n"
   ]
  },
  {
   "cell_type": "code",
   "execution_count": 5,
   "metadata": {},
   "outputs": [
    {
     "name": "stdout",
     "output_type": "stream",
     "text": [
      "ABC\n",
      "ACB\n",
      "BAC\n",
      "BCA\n",
      "CBA\n",
      "CAB\n"
     ]
    }
   ],
   "source": [
    "#Question 7. Given a string str, the task is to print all the permutations of str.\n",
    "# A permutation is an arrangement of all or part of a set of objects, with regard to the order of the arrangement. \n",
    "# For instance, the words ‘bat’ and ‘tab’ represents two distinct permutation (or arrangements) of a similar three letter word.\n",
    "\n",
    "def str_permutation(S, l, r):\n",
    "    if l == r:\n",
    "        print(''.join(S))\n",
    "    else:\n",
    "        for i in range(l, r+1):\n",
    "            list_str = list(S)\n",
    "            list_str[l], list_str[i] = list_str[i], list_str[l]\n",
    "            str_permutation(list_str, l+1, r)\n",
    "            list_str[l], list_str[i] = list_str[i], list_str[l]  # Undo the swap\n",
    "S = \"ABC\"\n",
    "str_permutation(S, 0, len(S)-1)"
   ]
  },
  {
   "cell_type": "code",
   "execution_count": 12,
   "metadata": {},
   "outputs": [
    {
     "name": "stdout",
     "output_type": "stream",
     "text": [
      "There are 3 consonants\n"
     ]
    }
   ],
   "source": [
    "#Question 8. Given a string, count total number of consonants in it. \n",
    "# A consonant is an English alphabet character that is not vowel (a, e, i, o and u). Examples of constants are b, c, d, f, and g\n",
    "def cnt_consonant(str):\n",
    "    vowels = ['a','e','i','o','u']\n",
    "    cnt = 0\n",
    "    for char in str.lower():\n",
    "        if char.isalpha() and char not in vowels:\n",
    "            cnt += 1\n",
    "    return cnt\n",
    "str = \"abc de\"\n",
    "print(f\"There are {cnt_consonant(str)} consonants\")\n"
   ]
  },
  {
   "cell_type": "code",
   "execution_count": null,
   "metadata": {},
   "outputs": [],
   "source": []
  }
 ],
 "metadata": {
  "kernelspec": {
   "display_name": "Python 3",
   "language": "python",
   "name": "python3"
  },
  "language_info": {
   "codemirror_mode": {
    "name": "ipython",
    "version": 3
   },
   "file_extension": ".py",
   "mimetype": "text/x-python",
   "name": "python",
   "nbconvert_exporter": "python",
   "pygments_lexer": "ipython3",
   "version": "3.9.7"
  },
  "orig_nbformat": 4
 },
 "nbformat": 4,
 "nbformat_minor": 2
}
